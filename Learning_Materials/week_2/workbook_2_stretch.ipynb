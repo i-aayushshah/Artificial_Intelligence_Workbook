{
 "cells": [
  {
   "cell_type": "markdown",
   "metadata": {},
   "source": [
    "<div class=\"alert alert-block alert-info\" style=\"color:black\"> <h2>Activity 5: Investigate the time and space (memory) requirements of your two methods</h2>\n",
    "    You should now have working versions of both breadth-first and (restricted) depth-first search. They already store the number of attempts tested (a measure of runtime), and the code cells that run them print that value out.<br>\n",
    "    The next step is to compare memory - which is proportional to the maximum size of the open list. \n",
    "    <br><br><b>How to get started:</b> Edit your code for both classes:\n",
    "    <ol>\n",
    "    <li> Copy-paste <code>update_working_memory()</code> into your <code>BreadthFirstSearch</code> class</li>\n",
    "    <li> In both your classes add a new parameter <code>self.max_memory</code> with a default value 0 by over-riding the <code>__init__()</code> method of the super class.</ul>\n",
    "    <li> Override <code>update_working_memory()</code> in both your classes, adding code to:\n",
    "        <ul>\n",
    "            <li>check the length of the open_list against <code>self.max_memory</code></li>\n",
    "            <li> update the value of <code>self.max_memory</code> if the open list has increased in size.</li>\n",
    "        </ul>\n",
    "    <li> Copy-paste the testing code from the cells above, then adapt it to test the time and memory needs of your algorithms.</li> \n",
    "    </ol>\n",
    "    <b>Note:</b> this is a <em>Stretch</em> activity so don't worry if you can't complete it easily.\n",
    "</div>"
   ]
  },
  {
   "cell_type": "code",
   "execution_count": null,
   "metadata": {},
   "outputs": [],
   "source": [
    "import sys, os\n",
    "\n",
    "# Import from the common directory\n",
    "sys.path.append('../common')\n",
    "from problem import Problem\n",
    "from candidatesolution import CandidateSolution\n",
    "from singlemembersearch import SingleMemberSearch\n",
    "from combinationproblem import CombinationProblem\n",
    "\n",
    "class BreadthFirstSearch(SingleMemberSearch):\n",
    "    \"\"\"your implementation of depth first search to extend\n",
    "    the superclass SingleMemberSearch search.\n",
    "    Adds  a __str__method\n",
    "    Over-rides the method select_and_move_from_openlist\n",
    "    to implement the algorithm\n",
    "    \"\"\"\n",
    "\n",
    "    def __str__(self):\n",
    "        return \"breadth-first\"\n",
    "\n",
    "    def select_and_move_from_openlist(self) -> CandidateSolution:\n",
    "        \"\"\"Implements the breadth-first search algorithm\n",
    "\n",
    "        Returns\n",
    "        -------\n",
    "        next working candidate (solution) taken from open list\n",
    "        \"\"\"\n",
    "        # create a candidate solution variable to hold the next solution\n",
    "        next_soln = CandidateSolution()\n",
    "\n",
    "        # ====> insert your pseudo-code and code below here\n",
    "        if len(self.open_list) == 0:\n",
    "            return next_soln\n",
    "        # SelectAndMoveFromOpenList()\n",
    "        # my_index ← GetFirstIndex(open_list)\n",
    "        my_index = 0\n",
    "\n",
    "        # the_candidate ← open_list(my_index)\n",
    "        next_soln = self.open_list[my_index]\n",
    "\n",
    "        # RemoveFromOpenList(my_index)\n",
    "        self.open_list.pop(my_index)\n",
    "\n",
    "        # <==== insert your pseudo-code and code above here\n",
    "        return next_soln\n",
    "\n",
    "    def update_working_memory(self, neighbour: CandidateSolution,reason:str):\n",
    "        \"\"\"Update what we have learned about the problem\n",
    "        after evaluating a new candidate\n",
    "        Could have left this code in the main loop\n",
    "        but separating it out makes it easier to read.\n",
    "        \"\"\"\n",
    "        # === Pseudocode: IF status IS AtGoal THEN Return(SUCCESS)\n",
    "        # for decision problems this means quality==1\n",
    "        if neighbour.quality == self.target_quality:\n",
    "            self.result = neighbour.variable_values\n",
    "            self.solved = True\n",
    "\n",
    "        # === Pseudocode: ELSE IF status IS BREAKS_CONSTRAINTS THEN\n",
    "        elif reason != \"\":\n",
    "            self.runlog += (\n",
    "                f\"discarding invalid solution {neighbour.variable_values} \"\n",
    "                f\"because    {reason}\\n\"\n",
    "            )\n",
    "            # PS AppendToClosedList(neighbour)\n",
    "            self.closed_list.append(neighbour)\n",
    "\n",
    "        # === Pseudocode: ELSE AppendToOpenList(neighbour)\n",
    "        elif len(neighbour.variable_values) < self.max_depth:\n",
    "            self.runlog += (\n",
    "                \"adding solution to openlist\"\n",
    "                f\": to examine later: {neighbour.variable_values}\\t\"\n",
    "                f\" quality {neighbour.quality}\\n\"\n",
    "            )\n",
    "            self.open_list.append(neighbour)\n",
    "        # Update max_memory\n",
    "        if len(self.open_list) > self.max_memory:\n",
    "            self.max_memory = len(self.open_list)"
   ]
  },
  {
   "cell_type": "code",
   "execution_count": 24,
   "metadata": {},
   "outputs": [
    {
     "name": "stdout",
     "output_type": "stream",
     "text": [
      "Running Restricted Depth-First Search...\n",
      "Found: False\n",
      "Elapsed Time: 0.0923 seconds\n",
      "Number of Attempts: 1001\n",
      "Maximum Memory Used: 0\n",
      "\n",
      "Running Breadth-First Search...\n",
      "Found: False\n",
      "Elapsed Time: 0.0110 seconds\n",
      "Number of Attempts: 501\n",
      "Maximum Memory Used: 0\n"
     ]
    }
   ],
   "source": [
    "import time\n",
    "\n",
    "# Assuming you have a problem instance `myproblem`\n",
    "myproblem = CombinationProblem()\n",
    "# Initialize the search algorithms\n",
    "my_depth_search = RestrictedDepthFirstSearch(myproblem, constructive=True, max_attempts=1000, max_depth=10)\n",
    "my_breadth_search = BreadthFirstSearch(myproblem, constructive=True, max_attempts=500)\n",
    "\n",
    "# Function to run and measure the search algorithm\n",
    "def run_search_algorithm(algorithm):\n",
    "    start_time = time.time()\n",
    "    found = algorithm.run_search()\n",
    "    end_time = time.time()\n",
    "    elapsed_time = end_time - start_time\n",
    "    return found, elapsed_time, algorithm.trials, algorithm.max_memory\n",
    "\n",
    "# Run the depth-first search with depth restriction\n",
    "print(\"Running Restricted Depth-First Search...\")\n",
    "found, elapsed_time, trials, max_memory = run_search_algorithm(my_depth_search)\n",
    "print(f\"Found: {found}\")\n",
    "print(f\"Elapsed Time: {elapsed_time:.4f} seconds\")\n",
    "print(f\"Number of Attempts: {trials}\")\n",
    "print(f\"Maximum Memory Used: {max_memory}\")\n",
    "\n",
    "# Run the breadth-first search\n",
    "print(\"\\nRunning Breadth-First Search...\")\n",
    "found, elapsed_time, trials, max_memory = run_search_algorithm(my_breadth_search)\n",
    "print(f\"Found: {found}\")\n",
    "print(f\"Elapsed Time: {elapsed_time:.4f} seconds\")\n",
    "print(f\"Number of Attempts: {trials}\")\n",
    "print(f\"Maximum Memory Used: {max_memory}\")"
   ]
  },
  {
   "cell_type": "code",
   "execution_count": 22,
   "metadata": {},
   "outputs": [
    {
     "data": {
      "application/vnd.jupyter.widget-view+json": {
       "model_id": "38cab4d1f13a45eca6bdbd9b11b7a50c",
       "version_major": 2,
       "version_minor": 0
      },
      "text/plain": [
       "VBox(children=(Output(), RadioButtons(layout=Layout(height='auto', width='auto'), options=(('yes', 0), ('no', …"
      ]
     },
     "metadata": {},
     "output_type": "display_data"
    },
    {
     "data": {
      "application/vnd.jupyter.widget-view+json": {
       "model_id": "2177bd53423b41b6b1716f0489498ef2",
       "version_major": 2,
       "version_minor": 0
      },
      "text/plain": [
       "VBox(children=(Output(), RadioButtons(layout=Layout(height='auto', width='auto'), options=(('yes', 0), ('no', …"
      ]
     },
     "metadata": {},
     "output_type": "display_data"
    }
   ],
   "source": [
    "import workbook2_utils as wb2\n",
    "display(wb2.q12)\n",
    "display(wb2.q13)"
   ]
  }
 ],
 "metadata": {
  "kernelspec": {
   "display_name": "base",
   "language": "python",
   "name": "python3"
  },
  "language_info": {
   "codemirror_mode": {
    "name": "ipython",
    "version": 3
   },
   "file_extension": ".py",
   "mimetype": "text/x-python",
   "name": "python",
   "nbconvert_exporter": "python",
   "pygments_lexer": "ipython3",
   "version": "3.12.4"
  }
 },
 "nbformat": 4,
 "nbformat_minor": 2
}
