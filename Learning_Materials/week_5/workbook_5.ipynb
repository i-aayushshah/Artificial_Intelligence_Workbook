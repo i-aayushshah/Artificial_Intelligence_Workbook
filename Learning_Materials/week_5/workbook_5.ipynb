{
 "cells": [
  {
   "cell_type": "markdown",
   "metadata": {},
   "source": [
    "<div class=\"alert alert-block alert-danger\" style=\"color:black\"><h2> THIS WORKBOOK IS ASSESSED</h2>\n",
    "    Activity 4 is a task that brings together the work you will do in the rest of the notebook. It is worth 100 marks and there is a marking grid showing how marks are awarded.<br>\n",
    "    As before, you will be submitting a file of python code for marking and  the notebooks use a two-stage process to help you.<br>\n",
    "    As you work through activity 4 in the workbook:\n",
    "    <ol>\n",
    "        <li> <em>Jupyter <code>%%writefile</code> cell magics</em>  saves your code to a file\"studentcode/student_wb5\" as you run cells after editing</li>\n",
    "        <li> Subsequent cells reload your code from that file to test the latest version .</li>\n",
    "    </ol>\n",
    "    <ol>\n",
    "        <li> Restart the kernel and do a single run through of every cell in turn  so <code>studentcode/student_wb5.py</code> has no duplicated definitions.</li>\n",
    "        <li> Run the notebook <b>wb5_selfchecker.ipynb</b> to check for syntax errors when called from our marking code, and edit as needed</li>\n",
    "        <li>Download <code>studentcode/student_wb5.py</code> to your local machine. </li>\n",
    "        <li> Follow the links in the <i>Assessments</i> folder on Blackboard to submit it for automatic marking and feedback.<br>\n",
    "        </li>\n",
    "        <li><b>Read the feedback provided</b> and use it to improve your work.<br>\n",
    "            <b>You will have four attempts to submit each notebook.</b></li>\n",
    "    </ol>\n",
    "<h3> Important instructions about formatting your code cells</h3>\n",
    "<ol>\n",
    "   <li>Where you are asked to insert code, or to complete a code skeleton, <b>you must only put code where indicated</b>. <br>\n",
    "       Otherwise the marking server - or the plagiarism detection we will run later - will not be able to parse and accept them.<br>\n",
    "       So your code should only go:\n",
    "       <ul> \n",
    "           <li><b>After</b> the lines marked <code># ====> insert your code below here </code></li>\n",
    "           <li> <b>Before</b> the lines marked <code># <==== insert your code above here</code></li>\n",
    "      </ul>\n",
    "   </li>\n",
    "    <li>The marking server will reject any files containing imports except \"approvedimports\".<br>\n",
    "               The marking server has its own copy of that file, so there is no point editing the one we give you.</li>\n",
    "<li>Even in comments you must not use any of these banned words: <em>system, read,import</li>\n",
    "</ol>\n",
    "</div>"
   ]
  },
  {
   "cell_type": "markdown",
   "metadata": {},
   "source": [
    "# Workbook 5: Unsupervised Learning\n",
    "\n",
    "Overview of activities and objectives of this workbook:\n",
    "\n",
    "1. The first part of this workbook will create simple visualisations (plots) from a classic machine learning dataset.\n",
    "    - The key first stage in any AI / Data science project is creating 'Data Visualisations' -- such as 2D and 3D scatter plots with different colourings to examine the relationships between the values of different features in your data set.\n",
    "    - We will do this with the Iris data, which contains measurements of 150 different Iris flowers.\n",
    "\n",
    "2. The second part of this workbook will introduce the unsupervised clustering algorithm 'k-Means'.\n",
    "    - K-Means is run on the Iris data and we can examine the effect of different settings for parameters such as the number of clusters\n",
    "    - We will use the industry-standard <code>scikit-learn</code> package to do unsupervised clustering.\n",
    "\n",
    "3. The third part of this workbook will explore more sophisticated visualisations.\n",
    "    - For example colouring points in a scatter plot according to what cluster they are assigned to.\n",
    "    - In this part you will also create the file you submit for marking: by bringing together code snippets from activities 1-3."
   ]
  },
  {
   "cell_type": "markdown",
   "metadata": {},
   "source": [
    "<div style=\"background-color:black;width:100%;\"></div>"
   ]
  },
  {
   "cell_type": "markdown",
   "metadata": {},
   "source": [
    "# Part 1: Creating and adapting a simple data visualisation <img src=\"figures/Iris-image.png\" style=\"float:right\">\n",
    "\n",
    "First we will load the Iris data. This is a classic Machine Learning Data set which contains:\n",
    "- 4 measurements (features): sepal and petal width and length\n",
    "- 50 examples from each sub-species for iris flowers (so, 150 total)\n",
    "- 3 class labels: Iris-Virginica, Iris-Setosa or Iris-Versicolor\n",
    "\n",
    "The next cell to imports some useful libraries and then loads the iris dataset into two arrays:\n",
    "- <code>irisX</code> (the features - 150 rows x 4 columns)\n",
    "- <code>irisy</code> (the class labels - For the purpose of this tutorial we are going to ignore the fact that we are provided with class labels)\n",
    "- We'll also make a list of the <code>feature_names</code> so we can use them to label our plots."
   ]
  },
  {
   "cell_type": "code",
   "execution_count": null,
   "metadata": {
    "pycharm": {
     "name": "#%%\n"
    }
   },
   "outputs": [],
   "source": [
    "# load the data\n",
    "from sklearn.datasets import load_iris\n",
    "import numpy as np\n",
    "\n",
    "irisX, irisy = load_iris(return_X_y=True)\n",
    "print(f'irisX is a {type(irisX)} with shape {irisX.shape}\\n'\n",
    "      f'irisy is a {type(irisy)} with shape {irisy.shape}\\n')\n",
    "feature_names = ['sepal width','sepal length','petal width','petal length']\n",
    "\n",
    "# Print the first 5 rows of Iris data\n",
    "print('Each row of irisX is a sample with the following features:')\n",
    "print(feature_names)\n",
    "print(irisX[:5])"
   ]
  },
  {
   "cell_type": "markdown",
   "metadata": {
    "pycharm": {
     "name": "#%% md\n"
    }
   },
   "source": [
    "## Create a scatter plot using the matplotlib library\n",
    "\n",
    "We are making a 2D plot so we will just look at the first two features. We need to select these using numpy slicing (for a refresher on slicing take a look at workbook 1)."
   ]
  },
  {
   "cell_type": "code",
   "execution_count": null,
   "metadata": {},
   "outputs": [],
   "source": [
    "# Select every row and just the first|second column into two 1-D arrays for the x and y axes\n",
    "# We're using variables to say what features we want for the x-axis and y-axis of the plot so we can change these easily\n",
    "x_axis_feature = 0 \n",
    "y_axis_feature = 1\n",
    "\n",
    "x = irisX[:, x_axis_feature]\n",
    "y = irisX[:, y_axis_feature]\n",
    "\n",
    "# Print the first 5 rows of x and y values\n",
    "print(feature_names[x_axis_feature])\n",
    "print(x[:5])\n",
    "print(feature_names[y_axis_feature])\n",
    "print(y[:5])"
   ]
  },
  {
   "cell_type": "markdown",
   "metadata": {},
   "source": [
    "Now we have selected the data we can make a simple scatter plot.\n",
    "\n",
    "To do this we'll call matplotlib.pyplot to create a canvas (fig) with a single subplot on it.\n",
    "Now we have selected the data we can use matplotlib.pyplot to create a canvas (fig) with a single subplot on it.\n",
    "- As you'll see later, you can use the same syntax to put multiple plots in a grid within one figure. This is because it's useful to separate:\n",
    "    - 'global' properties for the whole picture (size, title)\n",
    "    - properties for each subplot (ax) (x/y axis labels, subtitles etc)"
   ]
  },
  {
   "cell_type": "code",
   "execution_count": null,
   "metadata": {},
   "outputs": [],
   "source": [
    "import matplotlib.pyplot as plt\n",
    "\n",
    "# Create the canvas (fig) and the axes (ax) for the plot\n",
    "fig, ax = plt.subplots()\n",
    "\n",
    "# Create a scatter plot of x vs y\n",
    "ax.scatter(x, y)\n",
    "\n",
    "# Show the plot\n",
    "plt.show()"
   ]
  },
  {
   "cell_type": "markdown",
   "metadata": {},
   "source": [
    "Now lets add some 'decoration' to the plot so it is more informative."
   ]
  },
  {
   "cell_type": "code",
   "execution_count": null,
   "metadata": {},
   "outputs": [],
   "source": [
    "# Create the plot\n",
    "fig,ax = plt.subplots()\n",
    "ax.scatter(x, y)\n",
    "\n",
    "# Lets start with a title\n",
    "title = fig.suptitle(\"Scatter Plot for Iris Data\", fontsize=10)\n",
    "\n",
    "# Add some axis labels: recall we stored these in the list \"feature_names\" in case they were useful\n",
    "ax.set_xlabel(feature_names[x_axis_feature], fontsize=10)\n",
    "ax.set_ylabel(feature_names[y_axis_feature], fontsize=10)\n",
    "\n",
    "# Show the plot\n",
    "plt.show()"
   ]
  },
  {
   "cell_type": "markdown",
   "metadata": {},
   "source": [
    "<div class=\"alert alert-block alert-info\" style=\"color:black\"><h2>Activity 1: Creating and formatting simple 2D visualisations</h2>\n",
    "The cell below contains the all code used above to generate the scatter plot.\n",
    "    <ol>\n",
    "        <li>Edit the code to examine different combinations of features. For each combination of values <code>x_axis_feature</code> and <code>y_axis_feature</code> in the range [0, 3].\n",
    "            <ul>\n",
    "                <li>Edit the first two lines so that the combination is selected, then</li>\n",
    "                <li>Run the changed version to examine the effect of looking at different combinations of variables (there are 12 altogether)</li>\n",
    "            </ul>\n",
    "        </li>\n",
    "        <li>Next you can experiment with different formatting options. Currently this code example sets the overall title for the figure object, and the axis-labels, and their font sizes. But you could also experiment with:\n",
    "            <ul>\n",
    "                <li>Setting the total figure size with <code>plt.subplots(figsize=(10, 5))</code>. You will probably want to change these numbers to something appropriate to your screen.</li>\n",
    "                <li>Changing the marker  style, colour, and size. For example try changing: <code>ax.scatter(x, y)</code> to <code>ax.scatter(x, y, c='red', marker='^', s=10)</code>. The default circle marker is 'o', try with other symbols such as: '.', 's', 'v', '+','x'.</li>\n",
    "                <li>When you are happy you have found a plot that displays the data well, save your plot by adding the command <code>fig.savefig(\"your_filename.png\")</code>. Obviously change the filename to something more informative such as the names of the features you are displaying.</li>\n",
    "            </ul>\n",
    "        </li>\n",
    "        <li>Finally, when you are happy run the cell below that to answer the questions about the data and plots.</li>\n",
    "    </ol>\n",
    "</div>"
   ]
  },
  {
   "cell_type": "markdown",
   "metadata": {},
   "source": [
    "<div class=\"alert alert-block alert-success\" style=\"color:black\"><b>Hints:</b>\n",
    "    Matplotlib has many options for formatting plots:\n",
    "    <ul>\n",
    "        <li>You can find the documentation for scatter plots <a href=\"https://matplotlib.org/stable/api/_as_gen/matplotlib.pyplot.scatter.html\">here.</a></li>\n",
    "        <li><a href=\"https://www.w3schools.com/python/matplotlib_scatter.asp\">W3 Schools also has a nice resource.</a></li>\n",
    "    </ul>\n",
    "</div>"
   ]
  },
  {
   "cell_type": "code",
   "execution_count": null,
   "metadata": {
    "pycharm": {
     "name": "#%%\n"
    }
   },
   "outputs": [],
   "source": [
    "# Select the features to show\n",
    "x_axis_feature = 0\n",
    "y_axis_feature = 1\n",
    "x = irisX[:, x_axis_feature]\n",
    "y = irisX[:, y_axis_feature]\n",
    "\n",
    "# Create the scatter plot and title\n",
    "fig,ax = plt.subplots(figsize=(10, 5))\n",
    "ax.scatter(x, y, c=irisy, cmap='viridis', s=50, marker='x')\n",
    "title = fig.suptitle(\"Scatter Plot for Iris Data\", fontsize=10)\n",
    "\n",
    "# Add some axis labels: recall we stored these in the list \"feature_names\" in case they were useful\n",
    "ax.set_xlabel(feature_names[x_axis_feature], fontsize=10)\n",
    "ax.set_ylabel(feature_names[y_axis_feature], fontsize=10)\n",
    "\n",
    "# Show the plot\n",
    "plt.show()\n",
    "\n",
    "# When you're happy add the savefig command here\n",
    "fig.savefig('iris_plot.png')\n"
   ]
  },
  {
   "cell_type": "code",
   "execution_count": null,
   "metadata": {},
   "outputs": [],
   "source": [
    "import workbook5_mcq\n",
    "from IPython.display import display\n",
    "\n",
    "display(workbook5_mcq.Q1)\n",
    "display(workbook5_mcq.Q2)\n",
    "display(workbook5_mcq.Q3)\n",
    "display(workbook5_mcq.Q4)"
   ]
  },
  {
   "cell_type": "markdown",
   "metadata": {},
   "source": [
    "<div style=\"background-color:black;width:100%;\"></div>"
   ]
  },
  {
   "cell_type": "markdown",
   "metadata": {},
   "source": [
    "# Part 2: Using the k-Means algorithm to discover clusters in the data\n",
    "\n",
    "Work through the following cells to learn how to call and use sci-kit learn implementation of the k-means algorithm.\n",
    "\n",
    "1. First we will call the constructor to instantiate the cluster model.\n",
    "    - In this case we will create a kMeans model that just looks for two clusters using the `n_clusters` parameter.\n",
    "    - The `n_init` parameters tells it how many different random initialisations to try. Effectively doing multiple local searches to improve the chance of finding a good local optimum.\n",
    "\n",
    "2. Next we will 'fit' the model. in this case 'fitting' the model means finding the best cluster centres as described in the lecture.\n",
    "    - Most of the ML models in sklearn provide both a `fit()` and a `predict()` method."
   ]
  },
  {
   "cell_type": "code",
   "execution_count": null,
   "metadata": {},
   "outputs": [],
   "source": [
    "# Import the KMeans class from the sklearn library\n",
    "from sklearn.cluster import KMeans\n",
    "\n",
    "# Create a KMeans model with 2 clusters\n",
    "cluster_model = KMeans(n_clusters=2, n_init=10)\n",
    "\n",
    "# Fit the model to the data (find the clusters)\n",
    "cluster_model.fit(irisX)"
   ]
  },
  {
   "cell_type": "markdown",
   "metadata": {},
   "source": [
    "When the model was fitted to our data it stores the cluster centres it found as an attribute, so we will start by printing that.\n",
    "\n",
    "- The outputs will be a 2d numpy array with one row for each cluster centre, and one column for each variable.\n",
    "- In this case, the Iris data has four features to represent each of the examples. So each row represents the co-ordinates in 4d space of one the cluster centres."
   ]
  },
  {
   "cell_type": "code",
   "execution_count": null,
   "metadata": {},
   "outputs": [],
   "source": [
    "# Note the use of 'implicit concantenation' of the strings being passed to print()\n",
    "# and f-statements to print values via {}\n",
    "# both these can make your code more readable\n",
    "\n",
    "print( f\"The fitted unsupervised models contains {cluster_model.n_clusters} clusters\\n\"\n",
    "       f\"The clusters centres are stored in a {type(cluster_model.cluster_centers_)} \"\n",
    "       f\"of shape {cluster_model.cluster_centers_.shape}\\n\"\n",
    "       f\"This is the contents of that array:\\n{cluster_model.cluster_centers_}\"\n",
    "      )"
   ]
  },
  {
   "cell_type": "markdown",
   "metadata": {},
   "source": [
    "Most classes of sklearn models implement a `predict()` method. For KMeans, that outputs the index of the nearest cluster center to each data point.\n",
    "\n",
    "So the next cell calls the `predict()` method on our kMeans object, stores the result, then prints it out. The output will be a list with one `cluster_id'` for each example in the data set.\n",
    "  - So if the Nth entry is a 0 it means that data item N has been assigned to (is \"in\") cluster 0."
   ]
  },
  {
   "cell_type": "code",
   "execution_count": null,
   "metadata": {},
   "outputs": [],
   "source": [
    "# Create a KMeans model with 2 clusters\n",
    "cluster_model = KMeans(n_clusters=2, n_init=10)\n",
    "\n",
    "# Fit the model to the data (find the clusters)\n",
    "cluster_model.fit(irisX)\n",
    "\n",
    "# Make predictions for each data item\n",
    "cluster_ids = cluster_model.predict(irisX)\n",
    "print(f'This is the cluster to which each data item has been assigned by the model:\\n{cluster_ids}') "
   ]
  },
  {
   "cell_type": "markdown",
   "metadata": {},
   "source": [
    "<div class=\"alert alert-block alert-info\" style=\"color:black\"><h2>Activity 2: Grouping and visualising unlabelled data using the kMeans Unsupervised Learning method</h2>\n",
    "This activity is typical of many AI/Data science workflows in python, because we are going to combine snippets of code from different places.\n",
    "    <ol>\n",
    "        <li> Combine existing code to make a visualisation:\n",
    "            <ul>\n",
    "                <li>Copy the clustering code from the cell above into the cell below.</li>\n",
    "                <li>Then copy your visualisation code from Activity 1 part 2, to produce what you think is the most 'informative' scatter plot (the best pair of features).</li>\n",
    "                <li>Change the call to the plotting function from <code>ax.scatter(x, y)</code> to <code>ax.scatter(x, y,c=cluster_ids)</code> so that it use a different colour marker for each cluster.</li>\n",
    "            </ul>\n",
    "        </li>  \n",
    "        <li>Change and rerun the code to investigate what happens if you specify 2,3,4,5 clusters using the <code>K</code> variable. Experiment with different values for K (number of clusters) to find the one that you think 'looks' a best fit to the data.</li>\n",
    "    </ol>\n",
    "</div>"
   ]
  },
  {
   "cell_type": "code",
   "execution_count": null,
   "metadata": {},
   "outputs": [],
   "source": [
    "K = 5 # Chose the number of clusters (K)\n",
    "\n",
    "# Copy the 3 lines of code here that creates a kmeans model, finds the clusters and reports the cluster_ids (labels)\n",
    "\n",
    "# Create a KMeans model with 2 clusters\n",
    "cluster_model = KMeans(n_clusters=2, n_init=10)\n",
    "\n",
    "# Fit the model to the data (find the clusters)\n",
    "cluster_model.fit(irisX)\n",
    "\n",
    "# Make predictions for each data item\n",
    "cluster_ids = cluster_model.predict(irisX)\n",
    "\n",
    "# Copy your visualisation code from Activity 1 that makes a simple scatter plot here. Remember to change the call to ax.scatter() to use different coloured markers for different clusters\n",
    "\n",
    "# Select the features to show\n",
    "x_axis_feature = 0\n",
    "y_axis_feature = 1\n",
    "x = irisX[:, x_axis_feature]\n",
    "y = irisX[:, y_axis_feature]\n",
    "\n",
    "# Create the scatter plot and title\n",
    "fig,ax = plt.subplots(figsize=(10, 5))\n",
    "ax.scatter(x, y, c=cluster_ids, cmap='viridis', s=50, marker='x')\n",
    "title = fig.suptitle(\"Scatter Plot for Clustered Iris Data\", fontsize=10)\n",
    "\n",
    "# Add some axis labels: recall we stored these in the list \"feature_names\" in case they were useful\n",
    "ax.set_xlabel(feature_names[x_axis_feature], fontsize=10)\n",
    "ax.set_ylabel(feature_names[y_axis_feature], fontsize=10)\n",
    "\n",
    "# Show the plot\n",
    "plt.show()"
   ]
  },
  {
   "cell_type": "markdown",
   "metadata": {},
   "source": [
    "<div style=\"background-color:black;width:100%;\"></div>"
   ]
  },
  {
   "cell_type": "markdown",
   "metadata": {},
   "source": [
    "# Part 3: Making more complex visualisations with matplotlib\n",
    "\n",
    "This part is designed to give you insights into how we go about creating richer visualisations. Work through the cells below: in places you will need to reuse variables you created above (e.g. `feature_names`)\n",
    "\n",
    "Run the cell below to create a cluster model with the number of clusters you think best represent the data, that you found from the previous activity 2."
   ]
  },
  {
   "cell_type": "code",
   "execution_count": null,
   "metadata": {
    "pycharm": {
     "name": "#%%\n"
    }
   },
   "outputs": [],
   "source": [
    "K = 3 # Chose the number of clusters (K)\n",
    "\n",
    "# create the cluster labels\n",
    "cluster_model = KMeans(n_clusters=K, n_init=10)\n",
    "cluster_model.fit(irisX)\n",
    "cluster_ids = cluster_model.predict(irisX)"
   ]
  },
  {
   "cell_type": "markdown",
   "metadata": {},
   "source": [
    "<div class=\"alert alert-block alert-info\" style=\"color:black\"><h2>Activity 3: Showing the scatter plot matrix for your 'preferred' version of the data</h2>\n",
    "The method defined below uses the power of matplotlib subplots to make a canvas (figure) containing a grid of plots (axes).\n",
    "    <ol>\n",
    "        <li>The method defined below uses the power of matplotlib subplots to make a canvas (figure) containing a grid of plots (axes).\n",
    "            <ul>\n",
    "                <li>It finds out how many features (columns) there are in the data from the parameter <code>X</code> then uses loops to plot all the different scatter plots in a grid.</li>\n",
    "                <li>It also takes a second parameter <code>y</code> to colour the  markers.</li>\n",
    "                <li>After defining the methods the next cell calls it for the Iris feature values and the cluster_ids we found with the cluster model.\n",
    "            </ul>\n",
    "        </li>  \n",
    "        <li>Next edit the code in the next cell to show a histogram on the leading diagonal.\n",
    "            <ul>\n",
    "                <li>Change <code>ax[feature1, feature2].scatter(x_data, y_data, c=y)</code></li>\n",
    "                <li>to <pre><code>if (feature1!=feature2):\n",
    "    ax[feature1, feature2].scatter(x_data, y_data, c=y)\n",
    "else:\n",
    "    ax[feature1, feature2].hist(x_data)</code></pre></li>\n",
    "                <li>You may need to consult <a href=\"https://matplotlib.org/stable/api/_as_gen/matplotlib.axes.Axes.hist.html\">the documentation for the <code>hist()</code> method</a>.</li>\n",
    "            </ul>\n",
    "        </li>\n",
    "        <li><b>Stretch activity for the more experienced python programmers.</b>It would be nice if the histograms also had different colours for different cluster labels. To do that you need to split the Iris data into K subsets according to your clustered class labels, then either:\n",
    "            <ul>\n",
    "                <li>Make K separate calls to <code>hist()</code>. You could adapt code from the examples at the bottom of the matplotlib page linked above.</li>\n",
    "                <li>or pass the K subsets as a list i.e. <code>ax[feature1, feature2].hist(x=(subset1, subset2, subset3))</code>.</li> \n",
    "            </ul>\n",
    "        </li>\n",
    "    </ol>\n",
    "</div>"
   ]
  },
  {
   "cell_type": "code",
   "execution_count": null,
   "metadata": {
    "pycharm": {
     "name": "#%%\n"
    }
   },
   "outputs": [],
   "source": [
    "# Define a function that produces a set of scatter plots\n",
    "def show_scatterplot_matrix(X, y, feature_names, title=None):\n",
    "\n",
    "    # Find the number of features\n",
    "    num_feat = X.shape[1]\n",
    "    if(len(y) != X.shape[0]):\n",
    "        print(\"Error, the y array must have the same length as there are rows in X\")\n",
    "        return\n",
    "    \n",
    "    # Create the plot with a grid of (num_feat) subplots\n",
    "    fig, ax = plt.subplots(num_feat, num_feat, figsize=(12, 12))\n",
    "    plt.set_cmap('viridis')  # set the color map to 'jet' for better visualisation\n",
    "    \n",
    "    # Get colours for histogram\n",
    "    import matplotlib as mpl\n",
    "    hist_col = plt.get_cmap('viridis', 3).colors\n",
    "\n",
    "    # Loop over each pair of features\n",
    "    for feature1 in range(num_feat):\n",
    "\n",
    "        # Set the label for the axis\n",
    "        ax[feature1, 0].set_ylabel(feature_names[feature1])\n",
    "        ax[0, feature1].set_xlabel(feature_names[feature1])\n",
    "        ax[0, feature1].xaxis.set_label_position('top') \n",
    "\n",
    "        for feature2 in range(num_feat):\n",
    "\n",
    "            # Extract the data for the feature pairs\n",
    "            x_data = X[:, feature1]\n",
    "            y_data = X[:, feature2]\n",
    "\n",
    "            if feature1 != feature2:\n",
    "                ax[feature1, feature2].scatter(x_data, y_data, c=y)\n",
    "            else:\n",
    "                # Sort the labels and data so that the classes are in order\n",
    "                inds = np.argsort(y)\n",
    "                y = y[inds]\n",
    "                x_data = x_data[inds]\n",
    "\n",
    "                # Split the data into the different classes\n",
    "                splits = np.split(x_data, np.unique(y, return_index=True)[1][1:])\n",
    "                     \n",
    "                # Plot the histogram\n",
    "                for i, split in enumerate(splits):\n",
    "                    ax[feature1, feature2].hist(split, bins=20, color=hist_col[i], edgecolor='black')\n",
    "\n",
    "    # Add a title\n",
    "    if title != None:\n",
    "        fig.suptitle(title, fontsize=16, y=0.925)"
   ]
  },
  {
   "cell_type": "code",
   "execution_count": null,
   "metadata": {
    "pycharm": {
     "name": "#%%\n"
    }
   },
   "outputs": [],
   "source": [
    "# Run this cell to create the plot for the data you created\n",
    "show_scatterplot_matrix(irisX, cluster_ids, feature_names, title=\"Visualisation of the Iris Data\")"
   ]
  },
  {
   "cell_type": "markdown",
   "metadata": {},
   "source": [
    "<div class=\"alert alert-block alert-info\" style=\"color:black\"><h2>Activity 4: Creating a general cluster and visualise function</h2>\n",
    "    <h3><b>100 marks</b> - using the marking scheme below</h3>\n",
    "    This activity brings all of the previous activities and code together to create a general function for clustering and visualising data.<br><br>\n",
    "    You are provided with a <code>cluster_and_visualise()</code> function definition. It has 3 arguments:\n",
    "    <ol>\n",
    "        <li><code>datafile_name</code> - A path to a file which contains the data that should be clustered with K-means.</li>\n",
    "        <li><code>K</code> - The number of clusters to use with K-means.</li>\n",
    "        <li><code>feature_names</code> - A list of feature names in the data, for labelling the plots.</li>\n",
    "    </ol>\n",
    "    <br>\n",
    "    Your task is to complete this function so that it:\n",
    "    <ol>\n",
    "        <li>Reads in a dataset from a file. You should use <code>numpy.genfromtxt()</code> for this.</li>\n",
    "        <li>Runs K-means on the data to get a set of  cluster labels for the data points.</li>\n",
    "        <li>Create a 2D visualisation of the results with:\n",
    "            <ul>\n",
    "                <li>A title that <b>must</b> include your UWE username and number of clusters e.g. <i>'Visualisation of 4 clusters by j4-smith'</i>.<br>\n",
    "                The number of clusters should be shown as a number separated by white space (e.g. <i>' 4 clusters'</i> not <i>'4clusters'</i> or <i>' four clusters'</i>).<br>\n",
    "                    You will not know the number of clusters in advance so will have to create your title in your code using the value of K. </li>\n",
    "                <li>Labels for the axes.</li>\n",
    "                <li>Different colour markers for each cluster.</li>\n",
    "            </ul>\n",
    "        </li>\n",
    "        <li>Write the visualisation to a file called <i>'myVisualisation.jpg'</i></li>\n",
    "    </ol>\n",
    "    <b>How to get started:</b>\n",
    "    <ol>\n",
    "        <li>Read the <a href\"https://numpy.org/doc/stable/reference/generated/numpy.genfromtxt.html\">documentation</a> on <code>numpy.genfromtxt()</code> and write some code (1 line) to read in the file from the parameter <code>datafile_name</code>.</li>\n",
    "        <li>Put the code snippets from previous activities for clustering and creating visualisations into the function in the code cell below.</li>\n",
    "        <li>You can run the second cell below to self-assess your code and improve it according to the marking scheme below.</li>\n",
    "        <li><b>Do not</b> change the method definition<code> def cluster_and_visualise(datafile_name:string, K:int, feature_names:list):</code> and your code <b>must</b> return the matplotlib fig and axs objects.</li>\n",
    "    </ol>\n",
    "</div>"
   ]
  },
  {
   "cell_type": "markdown",
   "metadata": {},
   "source": [
    "<div class=\"alert alert-block alert-success\" style=\"color:black\"><b>Hints:</b> \n",
    "    <ul>\n",
    "        <li>The second cell below loads the 'fruit data' example from the lectures. You can use this to test your code and visualisation. But <b>your code will be tested on different datasets</b>, so you should keep it general (i.e. don't hard code variables).</li>\n",
    "        <li>When using <code>numpy.genfromtxt()</code> you will need to specify the <code>delimiter</code> argument. This specifies how the data points in the file are being separated. <b>In this case the values will be separated with a comma.</b></li>\n",
    "        <li>Suggest you write and test your code one step at a time e.g. make sure you are correctly reading in the data first, <i>then</i> run K-means, etc.</li>\n",
    "        <li>To maximise your marks refer to the full marking scheme below. For example, to get high marks you will need to create a scatter plot matrix similar to activity 3.</li>\n",
    "    </ul>\n",
    "</div>"
   ]
  },
  {
   "cell_type": "markdown",
   "metadata": {},
   "source": [
    "<div class=\"alert alert-block alert-danger\" style=\"color:black\">\n",
    "    <h3>The marking system will just expect you to submit a file called <i>clusterandvisualise.py</i></h3>\n",
    "    It will <b>not</b> accept the jupyter notebook.<br>\n",
    "    To help you with that, and demonstrate a useful feature of Jupyter:\n",
    "    <ul> \n",
    "        <li>The <code>%%writefile</code> command at the top of first code cell (where you develop your answer) writes all the content below to file when you run it.</li>\n",
    "        <li>Then the next one imports your code and tests it.</li>\n",
    "        <li><b>The python file that is being created and written is what you submit for marking.<b></li>\n",
    "    </ul>\n",
    "</div>"
   ]
  },
  {
   "cell_type": "markdown",
   "metadata": {},
   "source": [
    "## Marking scheme for your visualisation\n",
    "| Mark         | 0                                                                      | 10                                                                                                                      | 20                                                                                                                     | 30                                                                                                                                       | 40                                                                                                                   | 50                                                                                                                                                                      |\n",
    "|--------------|------------------------------------------------------------------------|-------------------------------------------------------------------------------------------------------------------------|------------------------------------------------------------------------------------------------------------------------|------------------------------------------------------------------------------------------------------------------------------------------|----------------------------------------------------------------------------------------------------------------------|-------------------------------------------------------------------------------------------------------------------------------------------------------------------------|\n",
    "| Content      | Code does not run  OR  no image file produced, OR  image file is empty | Basic scatter plot of two features. Data not coloured by clusters.                                                      | Basic scatter-plot only showing two features.    Some different colours for data markers but no evidence of clustering |  Matrix of scatterplots for different combinations of features.    Some different colours for data markers but no evidence of clustering |  Matrix of scatter-plots for different combinations of features.    Marker colours show appropriate     clusters.    |  Matrix of scatter-plots for different combinations of features.    Diagonals in matrix show histogram plots for variables  Marker colours show appropriate    clusters |\n",
    "| Presentation | Code does not run  OR  no image file produced, OR  image file is empty | No figure title or labels on axes  OR  Plot is not appropriate size  OR  Data markers are not visible and suitable size |  Appropriate figure title    OR  feature names used to label axes, but not both                                        |  Appropriate figure title    AND  feature names used to label axes                                                                       |  Clearly differentiated markers display data with assignment to clusters. Appropriate figure title  and axis labels. |  Well presented fully self-explanatory visualisation with good use of colour and marker styles and sizes.                                                               |"
   ]
  },
  {
   "cell_type": "code",
   "execution_count": null,
   "metadata": {},
   "outputs": [],
   "source": [
    "%%writefile 'studentcode/student_wb5.py'\n",
    "# DO NOT change anything except within the function\n",
    "from approvedimports import *\n",
    "\n",
    "def cluster_and_visualise(datafile_name:str, K:int, feature_names:list):\n",
    "    \"\"\"Function to get the data from a file, perform K-means clustering and produce a visualisation of results.\n",
    "\n",
    "    Parameters\n",
    "        ----------\n",
    "        datafile_name: str\n",
    "            path to data file\n",
    "\n",
    "        K: int\n",
    "            number of clusters to use\n",
    "        \n",
    "        feature_names: list\n",
    "            list of feature names\n",
    "\n",
    "        Returns\n",
    "        ---------\n",
    "        fig: matplotlib.figure.Figure\n",
    "            the figure object for the plot\n",
    "        \n",
    "        axs: matplotlib.axes.Axes\n",
    "            the axes object for the plot\n",
    "    \"\"\"\n",
    "   # ====> insert your code below here\n",
    "    # get the data from file into a numpy array\n",
    "\n",
    "\n",
    "    # create a K-Means cluster model with  the specified number of clusters\n",
    "\n",
    "    # create a canvas(fig) and axes to hold your visualisation\n",
    "\n",
    "    # make the visualisation\n",
    "    # remember to put your user name into the title as specified\n",
    "\n",
    "\n",
    "    # save it to file as specified\n",
    "\n",
    "    # if you don't delete the line below there will be problem!\n",
    "    raise NotImplementedError(\"Complete the function\")\n",
    "    \n",
    "    return fig,ax\n",
    "    \n",
    "    # <==== insert your code above here\n"
   ]
  },
  {
   "cell_type": "code",
   "execution_count": null,
   "metadata": {},
   "outputs": [],
   "source": [
    "# provide details of sample data set to use for testing\n",
    "fruit_featurenames = ('mean_red', 'mean_green', 'mean_blue','width', 'height', 'weight')\n",
    "fruit_datafile = 'data/fruit_values.csv'\n",
    "\n",
    "#set up paths and reload latest version of your code\n",
    "from sys import path\n",
    "from importlib import reload\n",
    "\n",
    "if 'studentcode' not in path:\n",
    "    path.append('./studentcode')\n",
    "import student_wb5\n",
    "reload(student_wb5)  \n",
    "\n",
    "# now run your code with the apple-banana-oranges dataset\n",
    "from student_wb5 import cluster_and_visualise\n",
    "\n",
    "_, _ = cluster_and_visualise(fruit_datafile, 3, fruit_featurenames) "
   ]
  },
  {
   "cell_type": "markdown",
   "metadata": {},
   "source": [
    "<div class=\"alert alert-block alert-success\" style=\"color:black\"><b>Save and close Jupyter:</b>\n",
    "    <ol>\n",
    "        <li>Use the jupyterlab functions to download your work (ask your tutor if you need help with this) and save it somewhere sensible so you can find it easily.</li>\n",
    "        <li>Shutdown the notebook when you have finished with this tutorial (menu->file->close and shutdown notebook)</li>\n",
    "    </ol>\n",
    "</div"
   ]
  }
 ],
 "metadata": {
  "kernelspec": {
   "display_name": "aienv",
   "language": "python",
   "name": "aienv"
  },
  "language_info": {
   "codemirror_mode": {
    "name": "ipython",
    "version": 3
   },
   "file_extension": ".py",
   "mimetype": "text/x-python",
   "name": "python",
   "nbconvert_exporter": "python",
   "pygments_lexer": "ipython3",
   "version": "3.11.6"
  }
 },
 "nbformat": 4,
 "nbformat_minor": 4
}
