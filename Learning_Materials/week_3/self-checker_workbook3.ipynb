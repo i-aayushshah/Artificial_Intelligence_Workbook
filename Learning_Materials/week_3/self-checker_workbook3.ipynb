{
 "cells": [
  {
   "cell_type": "markdown",
   "id": "7e1aa208-4adb-4d5a-94a7-fc8794f07fbb",
   "metadata": {},
   "source": [
    "<div class=\"alert alert-block alert-success\" style=\"color:black\">\n",
    "    <h1>Self-Checker Notebook: workbook3</h1>\n",
    "<p> When you have completed workbook3 it should produce a file called <code>student_wb3.py</code> in the folder <code>studentcode</code></p>\n",
    "    <p>Run the code cells in notebook to check your code for syntax errors <b>before you submit to the marking server</b></p>\n",
    "    <p> This will help you avoid wasting submission attemopts</p>\n",
    "</div>"
   ]
  },
  {
   "cell_type": "markdown",
   "id": "b2e73fe5-a3b6-4375-8fe6-05dda63f59c3",
   "metadata": {},
   "source": [
    "### Run next cell to set up code imports"
   ]
  },
  {
   "cell_type": "code",
   "execution_count": 1,
   "id": "c3159e46-d8af-4c4c-a3f9-c9de4a973efc",
   "metadata": {},
   "outputs": [],
   "source": [
    "#import your code\n",
    "from sys import path\n",
    "student_codepath = \"studentcode\"\n",
    "path.append(\"../common\")\n",
    "path.append(student_codepath)\n",
    "from approvedimports import *\n",
    "from mazenodisplay import Maze\n",
    "from wb3_selfcheck import *"
   ]
  },
  {
   "cell_type": "markdown",
   "id": "bb118bf1-9369-48a6-8959-a8a80b00484b",
   "metadata": {},
   "source": [
    "### Run the next cell to see if your code can be imported"
   ]
  },
  {
   "cell_type": "code",
   "execution_count": 2,
   "id": "53569423-03df-4474-9936-de5d3f61333f",
   "metadata": {},
   "outputs": [
    {
     "name": "stdout",
     "output_type": "stream",
     "text": [
      "\n",
      "Import Error cannot import name 'BreadthFirstSearch' from 'student_wb3' (d:\\Artificial Intelligence\\Artificial_Intelligence_1-main\\Learning_Materials\\week_3\\studentcode\\student_wb3.py)\n",
      "file contents\n",
      "\n",
      "from approvedimports import *\n",
      "\n",
      "class DepthFirstSearch(SingleMemberSearch):\n",
      "    \"\"\"your implementation of depth first search to extend\n",
      "    the superclass SingleMemberSearch search.\n",
      "    Adds  a __str__method\n",
      "    Over-rides the method select_and_move_from_openlist\n",
      "    to implement the algorithm\n",
      "    \"\"\"\n",
      "\n",
      "    def __str__(self):\n",
      "        return \"depth-first\"\n",
      "\n",
      "    def select_and_move_from_openlist(self) -> CandidateSolution:\n",
      "        \"\"\"void in superclass\n",
      "        In sub-classes should implement different algorithms\n",
      "        depending on what item it picks from self.open_list\n",
      "        and what it then does to the openlist\n",
      "\n",
      "        Returns\n",
      "        -------\n",
      "        next working candidate (solution) taken from openlist\n",
      "        \"\"\"\n",
      "\n",
      "        # create a candidate solution variable to hold the next solution\n",
      "        next_soln = CandidateSolution()\n",
      "\n",
      "        # ====> insert your pseudo-code and code below here\n",
      "        # SelectAndMoveFromOpenList()\n",
      "        if len(self.open_list) == 0:\n",
      "            return next_soln\n",
      "        # my_index ← GetLastIndex(open_list)\n",
      "        my_index = len(self.open_list) - 1\n",
      "\n",
      "        # the_candidate ← open_list(my_index)\n",
      "        next_soln = self.open_list[my_index]\n",
      "\n",
      "        # RemoveFromOpenList(my_index)\n",
      "        self.open_list.pop(my_index)\n",
      "\n",
      "\n",
      "        # <==== insert your pseudo-code and code above here\n",
      "        return next_soln\n",
      "\n"
     ]
    }
   ],
   "source": [
    "try:\n",
    "    from student_wb3 import DepthFirstSearch\n",
    "    from student_wb3 import BreadthFirstSearch\n",
    "    from student_wb3 import BestFirstSearch\n",
    "    from student_wb3 import AStarSearch\n",
    "\n",
    "    wall_colour= 0.0\n",
    "    hole_colour = 1.0\n",
    "\n",
    "    from student_wb3 import create_maze_breaks_depthfirst\n",
    "    from student_wb3 import create_maze_depth_better\n",
    "except ImportError as e:\n",
    "    fullpath  = student_codepath +\"/student_wb3.py\"\n",
    "    outStr = f\"\\nImport Error {e}\\nfile contents\\n\"\n",
    "    with open(fullpath,'r') as file:\n",
    "        for line in file:\n",
    "            outStr += line\n",
    "    print(outStr)"
   ]
  },
  {
   "cell_type": "markdown",
   "id": "59af69f3-3365-4443-b826-11de97e4170f",
   "metadata": {},
   "source": [
    "### Run this last cell to test your code\n",
    "\n",
    "For self checking, the scores for each of your functions are as follows:\n",
    "- 2 if it runs ok and produces the correct result for a single test case.\n",
    "- 1 if it runs ok but produces the incorrect result for a single test case.\n",
    "- 0 if it does not run with our testing code.\n",
    "\n",
    "The marking server uses different (and more) test cases."
   ]
  },
  {
   "cell_type": "code",
   "execution_count": 3,
   "id": "9d6fe302-22b1-469d-a770-0821879ef320",
   "metadata": {},
   "outputs": [
    {
     "ename": "AttributeError",
     "evalue": "module 'student_wb3' has no attribute 'BreadthFirstSearch'",
     "output_type": "error",
     "traceback": [
      "\u001b[1;31m---------------------------------------------------------------------------\u001b[0m",
      "\u001b[1;31mAttributeError\u001b[0m                            Traceback (most recent call last)",
      "Cell \u001b[1;32mIn[3], line 1\u001b[0m\n\u001b[1;32m----> 1\u001b[0m score,feedback\u001b[38;5;241m=\u001b[39m \u001b[43mMarkingFunction\u001b[49m\u001b[43m(\u001b[49m\u001b[38;5;124;43m\"\u001b[39;49m\u001b[38;5;124;43mstudent_wb3.py\u001b[39;49m\u001b[38;5;124;43m\"\u001b[39;49m\u001b[43m)\u001b[49m\n\u001b[0;32m      3\u001b[0m \u001b[38;5;28mprint\u001b[39m(\u001b[38;5;124mf\u001b[39m\u001b[38;5;124m'\u001b[39m\u001b[38;5;124mYour code scores \u001b[39m\u001b[38;5;132;01m{\u001b[39;00mscore\u001b[38;5;132;01m}\u001b[39;00m\u001b[38;5;124m out of 12 on the self checker\u001b[39m\u001b[38;5;124m'\u001b[39m)\n\u001b[0;32m      5\u001b[0m \u001b[38;5;28;01mfrom\u001b[39;00m \u001b[38;5;21;01mIPython\u001b[39;00m\u001b[38;5;21;01m.\u001b[39;00m\u001b[38;5;21;01mdisplay\u001b[39;00m \u001b[38;5;28;01mimport\u001b[39;00m display, HTML\n",
      "File \u001b[1;32md:\\Artificial Intelligence\\Artificial_Intelligence_1-main\\Learning_Materials\\week_3\\../common\\wb3_selfcheck.py:142\u001b[0m, in \u001b[0;36mMarkingFunction\u001b[1;34m(studentFile)\u001b[0m\n\u001b[0;32m    139\u001b[0m overallFeedback \u001b[38;5;241m=\u001b[39m \u001b[38;5;124m'\u001b[39m\u001b[38;5;124m'\u001b[39m\n\u001b[0;32m    141\u001b[0m \u001b[38;5;66;03m# test the different search algorithms\u001b[39;00m\n\u001b[1;32m--> 142\u001b[0m algorithms\u001b[38;5;241m=\u001b[39m [student\u001b[38;5;241m.\u001b[39mDepthFirstSearch,\u001b[43mstudent\u001b[49m\u001b[38;5;241;43m.\u001b[39;49m\u001b[43mBreadthFirstSearch\u001b[49m,\n\u001b[0;32m    143\u001b[0m         student\u001b[38;5;241m.\u001b[39mBestFirstSearch,student\u001b[38;5;241m.\u001b[39mAStarSearch]\n\u001b[0;32m    144\u001b[0m \u001b[38;5;28;01mfor\u001b[39;00m algorithm \u001b[38;5;129;01min\u001b[39;00m algorithms:\n\u001b[0;32m    145\u001b[0m     this_score,this_feedback \u001b[38;5;241m=\u001b[39m test_on_maze(algorithm)\n",
      "\u001b[1;31mAttributeError\u001b[0m: module 'student_wb3' has no attribute 'BreadthFirstSearch'"
     ]
    }
   ],
   "source": [
    "score,feedback= MarkingFunction(\"student_wb3.py\")\n",
    "\n",
    "print(f'Your code scores {score} out of 12 on the self checker')\n",
    "\n",
    "from IPython.display import display, HTML\n",
    "display(HTML(feedback))"
   ]
  }
 ],
 "metadata": {
  "kernelspec": {
   "display_name": "base",
   "language": "python",
   "name": "python3"
  },
  "language_info": {
   "codemirror_mode": {
    "name": "ipython",
    "version": 3
   },
   "file_extension": ".py",
   "mimetype": "text/x-python",
   "name": "python",
   "nbconvert_exporter": "python",
   "pygments_lexer": "ipython3",
   "version": "3.12.4"
  }
 },
 "nbformat": 4,
 "nbformat_minor": 5
}
