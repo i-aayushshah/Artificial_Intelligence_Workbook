{
 "cells": [
  {
   "cell_type": "markdown",
   "metadata": {},
   "source": [
    "# AIML Portfolio Self-check\n",
    "\n",
    "## TO USE THIS NOTEBOOK RUN EACH CELL ONE BY ONE\n",
    "### If you get errors (red boxes appear) fix them before you move on.\n",
    "\n",
    "<div class=\"alert alert-block alert-danger\"> <b>REMEMBER:</b> You need to make sure you are running this code within the virtual environment you created using 'AIenv'.<br> In Jupyter click on the kernel menu then change-kernel. In VSCode use the kernel selector in the top-right hand corner </div>"
   ]
  },
  {
   "cell_type": "markdown",
   "metadata": {},
   "source": [
    "### 1: Develop your aiml code in the next cell\n",
    "### and run the cell to write it to file"
   ]
  },
  {
   "cell_type": "code",
   "execution_count": 1,
   "metadata": {
    "tags": []
   },
   "outputs": [
    {
     "name": "stdout",
     "output_type": "stream",
     "text": [
      "Writing student.aiml\n"
     ]
    }
   ],
   "source": [
    "%%writefile \"student.aiml\"\n",
    "<aiml>\n",
    "  <!-- Definitions -->\n",
    "  <category>\n",
    "    <pattern>WHAT IS LONG TERM KNOWLEDGE</pattern>\n",
    "    <template>Long-term knowledge is valid over a period of time.</template>\n",
    "  </category>\n",
    "\n",
    "  <category>\n",
    "    <pattern>WHAT IS SHORT TERM KNOWLEDGE</pattern>\n",
    "    <template>Short-term knowledge is only valid for a particular situation or run of a programme.</template>\n",
    "  </category>\n",
    "\n",
    "  <category>\n",
    "    <pattern>WHAT IS GENERIC KNOWLEDGE</pattern>\n",
    "    <template>Generic knowledge is relevant to more than one application or domain.</template>\n",
    "  </category>\n",
    "\n",
    "  <category>\n",
    "    <pattern>WHAT IS DOMAIN SPECIFIC KNOWLEDGE</pattern>\n",
    "    <template>Domain-specific knowledge is only applicable to one specific application or domain.</template>\n",
    "  </category>\n",
    "\n",
    "  <category>\n",
    "    <pattern>WHAT IS A FACT</pattern>\n",
    "    <template>A fact is a statement which asserts that a relationship holds for an object-subject pair.</template>\n",
    "  </category>\n",
    "\n",
    "  <category>\n",
    "    <pattern>WHAT IS A RULE</pattern>\n",
    "    <template>A rule is a statement that generates new knowledge by asserting that if one fact is true, then another is also true.</template>\n",
    "  </category>\n",
    "\n",
    "  <!-- Examples -->\n",
    "  <category>\n",
    "    <pattern>GIVE ME AN EXAMPLE OF LONG TERM GENERIC KNOWLEDGE</pattern>\n",
    "    <template>Generative AI frequently hallucinates and produces incorrect results.</template>\n",
    "  </category>\n",
    "\n",
    "  <category>\n",
    "    <pattern>GIVE ME AN EXAMPLE OF LONG TERM DOMAIN SPECIFIC KNOWLEDGE</pattern>\n",
    "    <template>The formal specification of a particular machine learning algorithm.</template>\n",
    "  </category>\n",
    "\n",
    "  <category>\n",
    "    <pattern>GIVE ME AN EXAMPLE OF SHORT TERM GENERIC KNOWLEDGE</pattern>\n",
    "    <template>The date today is an example as it may be useful in different contexts but only lasts 24 hours.</template>\n",
    "  </category>\n",
    "\n",
    "  <category>\n",
    "    <pattern>GIVE ME AN EXAMPLE OF SHORT TERM DOMAIN SPECIFIC KNOWLEDGE</pattern>\n",
    "    <template>The deadline for the submission of this portfolio.</template>\n",
    "  </category>\n",
    "\n",
    "  <category>\n",
    "    <pattern>GIVE ME AN EXAMPLE OF A FACT</pattern>\n",
    "    <template>Submissions for this module are run through automatic and effective plagiarism checks.</template>\n",
    "  </category>\n",
    "\n",
    "  <category>\n",
    "    <pattern>GIVE ME AN EXAMPLE OF A RULE</pattern>\n",
    "    <template>If submitsOthersWork(X) then commitsAssessmentOffence(X).</template>\n",
    "  </category>\n",
    "\n",
    "  <!-- Definition redirects -->\n",
    "  <category>\n",
    "    <pattern>GIVE ME A DEFINITION OF *</pattern>\n",
    "    <template><srai>WHAT IS <star/></srai></template>\n",
    "  </category>\n",
    "\n",
    "  <category>\n",
    "    <pattern>TELL ME ABOUT *</pattern>\n",
    "    <template><srai>WHAT IS <star/></srai></template>\n",
    "  </category>\n",
    "\n",
    "  <!-- Example redirects -->\n",
    "  <category>\n",
    "    <pattern>ILLUSTRATE THE CONCEPT OF *</pattern>\n",
    "    <template><srai>GIVE ME AN EXAMPLE OF <star/></srai></template>\n",
    "  </category>\n",
    "\n",
    "  <category>\n",
    "    <pattern>PROVIDE AN EXAMPLE OF *</pattern>\n",
    "    <template><srai>GIVE ME AN EXAMPLE OF <star/></srai></template>\n",
    "  </category>\n",
    "\n",
    "  <!-- Context-sensitive questions -->\n",
    "  <category>\n",
    "    <pattern>WHY IS KNOWING THAT USEFUL</pattern>\n",
    "    <that>SUBMISSIONS FOR THIS MODULE ARE RUN THROUGH AUTOMATIC AND EFFECTIVE PLAGIARISM CHECKS</that>\n",
    "    <template>To remind you that we take assessment offences very seriously.</template>\n",
    "  </category>\n",
    "\n",
    "  <category>\n",
    "    <pattern>WHY IS KNOWING THAT USEFUL</pattern>\n",
    "    <that>AIML HAS WILDCARDS AND SRAI FOR THAT PURPOSE</that>\n",
    "    <template>Because it allows us to make statements that apply to classes of things or questions.</template>\n",
    "  </category>\n",
    "\n",
    "  <category>\n",
    "    <pattern>WHY IS KNOWING THAT USEFUL</pattern>\n",
    "    <that>AIML SUPPORTS CONTEXT THROUGH THE USE OF THE THAT TAG TO REFER TO PREVIOUS BOT ANSWERS AND VIA SETTING VARIABLES SUCH AS TOPIC</that>\n",
    "    <template>Because some words like that and it can only be understood in the context of previous sentences.</template>\n",
    "  </category>\n",
    "\n",
    "  <!-- AIML-specific questions -->\n",
    "  <category>\n",
    "    <pattern>WHAT IS THE WAY THAT AIML ALLOWS VARIABLES IN ITS LONG TERM KNOWLEDGE</pattern>\n",
    "    <template>AIML has wildcards and srai for that purpose.</template>\n",
    "  </category>\n",
    "\n",
    "  <category>\n",
    "    <pattern>WHAT IS THE WAY AIML SUPPORTS CONTEXT DURING A CONVERSATION</pattern>\n",
    "    <template>AIML supports context through the use of the that tag to refer to previous bot answers, and via setting variables such as topic.</template>\n",
    "  </category>\n",
    "\n",
    "  <!-- MYBOT and PLEASE variations -->\n",
    "  <category>\n",
    "    <pattern>WHAT IS A RULE MYBOT</pattern>\n",
    "    <template><srai>WHAT IS A RULE</srai></template>\n",
    "  </category>\n",
    "\n",
    "  <category>\n",
    "    <pattern>MYBOT PLEASE GIVE ME A DEFINITION OF A RULE</pattern>\n",
    "    <template><srai>GIVE ME A DEFINITION OF A RULE</srai></template>\n",
    "  </category>\n",
    "\n",
    "  <category>\n",
    "    <pattern>PLEASE MYBOT WHAT IS A RULE</pattern>\n",
    "    <template><srai>WHAT IS A RULE</srai></template>\n",
    "  </category>\n",
    "\n",
    "  <category>\n",
    "    <pattern>PLEASE *</pattern>\n",
    "    <template><srai><star/></srai></template>\n",
    "  </category>\n",
    "</aiml>\n"
   ]
  },
  {
   "cell_type": "markdown",
   "metadata": {},
   "source": [
    "### 2: Run the next code cell to:\n",
    "- do some imports\n",
    "- create a marker object\n",
    "- load the 45 questions-response pairs"
   ]
  },
  {
   "cell_type": "code",
   "execution_count": 2,
   "metadata": {
    "tags": []
   },
   "outputs": [
    {
     "name": "stdout",
     "output_type": "stream",
     "text": [
      "\n"
     ]
    }
   ],
   "source": [
    "from aimlmarker import AIMLMarker\n",
    "\n",
    "my_marker = AIMLMarker()\n",
    "\n",
    "my_marker.load_questions()"
   ]
  },
  {
   "cell_type": "markdown",
   "metadata": {
    "tags": []
   },
   "source": [
    "### 3:Provided that runs ok, run the next cell to load and test your aiml"
   ]
  },
  {
   "cell_type": "code",
   "execution_count": 3,
   "metadata": {
    "tags": []
   },
   "outputs": [
    {
     "name": "stdout",
     "output_type": "stream",
     "text": [
      "Loading student.aiml...done (0.01 seconds)\n",
      "Score is 65\n",
      "Feedback is:\n",
      "45 question-response pairs read for testing your bot.\n",
      "AIML file student.aiml passes basic xml syntax checks.\n",
      "Passed aiml-specific syntax check.\n",
      "After reading your file the bot has 25 categories.\n",
      "You score 65 because your bot answered every question correctly using 25 categories.\n",
      "You can improve your score by using <set> tag pairs to creating variables so you can store what the conversation is talking about.\n",
      "You can improve your score by using <condition> and <get>tag pairs within a category's template to change the bot's response depending on values your (or the bot) have stored in variables.\n",
      "\n"
     ]
    }
   ],
   "source": [
    "my_marker.test_aiml()\n",
    "print(f\"Score is {my_marker.score}\")\n",
    "feedback = my_marker.feedback_str.replace(\"&lt;\", \"<\").replace(\"&gt;\", \">\")\n",
    "\n",
    "print(f\"Feedback is:\\n{feedback}\")"
   ]
  },
  {
   "cell_type": "markdown",
   "metadata": {},
   "source": [
    "### 4: Repeat step3 until there are no errors. \n",
    "### Then you can run the next cell to see what your bot responded for each question"
   ]
  },
  {
   "cell_type": "code",
   "execution_count": null,
   "metadata": {
    "tags": []
   },
   "outputs": [],
   "source": [
    "!cat \"student-responses.txt\""
   ]
  }
 ],
 "metadata": {
  "kernelspec": {
   "display_name": "base",
   "language": "python",
   "name": "python3"
  },
  "language_info": {
   "codemirror_mode": {
    "name": "ipython",
    "version": 3
   },
   "file_extension": ".py",
   "mimetype": "text/x-python",
   "name": "python",
   "nbconvert_exporter": "python",
   "pygments_lexer": "ipython3",
   "version": "3.12.4"
  }
 },
 "nbformat": 4,
 "nbformat_minor": 4
}
